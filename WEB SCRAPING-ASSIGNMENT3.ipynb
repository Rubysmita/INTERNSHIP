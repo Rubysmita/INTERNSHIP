{
 "cells": [
  {
   "cell_type": "code",
   "execution_count": 3,
   "id": "ad927329",
   "metadata": {},
   "outputs": [],
   "source": [
    "#Importing required libraries\n",
    "import selenium\n",
    "import pandas as pd\n",
    "from selenium import webdriver\n",
    "import time\n",
    "from selenium.common.exceptions import NoSuchElementException\n",
    "from selenium.webdriver.common.keys import Keys"
   ]
  },
  {
   "cell_type": "markdown",
   "id": "8f631d84",
   "metadata": {},
   "source": [
    "1. Write a python program which searches all the product under a particular product from www.amazon.in. The product to be searched will be taken as input from user. For e.g. If user input is ‘guitar’. Then search for guitars."
   ]
  },
  {
   "cell_type": "code",
   "execution_count": 4,
   "id": "35a6b88a",
   "metadata": {},
   "outputs": [
    {
     "name": "stderr",
     "output_type": "stream",
     "text": [
      "<ipython-input-4-e86b318ec392>:1: DeprecationWarning: executable_path has been deprecated, please pass in a Service object\n",
      "  driver=webdriver.Chrome(r\"C:/Users/user/Downloads/chromedriver_win32 (1)/chromedriver.exe\")\n"
     ]
    }
   ],
   "source": [
    "driver=webdriver.Chrome(r\"C:/Users/user/Downloads/chromedriver_win32 (1)/chromedriver.exe\")"
   ]
  },
  {
   "cell_type": "code",
   "execution_count": 5,
   "id": "3fc35810",
   "metadata": {},
   "outputs": [],
   "source": [
    "driver.get('https://www.amazon.in/')"
   ]
  },
  {
   "cell_type": "code",
   "execution_count": 6,
   "id": "8c158708",
   "metadata": {},
   "outputs": [
    {
     "name": "stderr",
     "output_type": "stream",
     "text": [
      "<ipython-input-6-52cf4ef10477>:1: DeprecationWarning: find_element_by_* commands are deprecated. Please use find_element() instead\n",
      "  search_bar=driver.find_element_by_id('twotabsearchtextbox')\n",
      "<ipython-input-6-52cf4ef10477>:4: DeprecationWarning: find_element_by_* commands are deprecated. Please use find_element() instead\n",
      "  driver.find_element_by_id('nav-search-submit-button').click()\n"
     ]
    }
   ],
   "source": [
    "search_bar=driver.find_element_by_id('twotabsearchtextbox')\n",
    "search_bar.send_keys(\"headphones\")\n",
    "\n",
    "driver.find_element_by_id('nav-search-submit-button').click()"
   ]
  },
  {
   "cell_type": "markdown",
   "id": "6207ed71",
   "metadata": {},
   "source": [
    "2. In the above question, now scrape the following details of each product listed in first 3 pages of your search results and save it in a data frame and csv. In case if any product has less than 3 pages in search results then scrape all the products available under that product name. Details to be scraped are: \"Brand Name\", \"Name of the Product\", \"Price\", \"Return/Exchange\", \"Expected Delivery\", \"Availability\" and “Product URL”. In case, if any of the details are missing for any of the product then replace it by “-“."
   ]
  },
  {
   "cell_type": "code",
   "execution_count": 7,
   "id": "b96cb67c",
   "metadata": {},
   "outputs": [
    {
     "name": "stderr",
     "output_type": "stream",
     "text": [
      "<ipython-input-7-51738c003564>:4: DeprecationWarning: find_elements_by_* commands are deprecated. Please use find_elements() instead\n",
      "  for i in driver.find_elements_by_xpath(\"//div[@class='a-section a-spacing-medium']//h2\"):\n",
      "E:\\AANI\\lib\\site-packages\\selenium\\webdriver\\remote\\webelement.py:393: UserWarning: find_element_by_* commands are deprecated. Please use find_element() instead\n",
      "  warnings.warn(\"find_element_by_* commands are deprecated. Please use find_element() instead\")\n",
      "<ipython-input-7-51738c003564>:7: DeprecationWarning: find_element_by_* commands are deprecated. Please use find_element() instead\n",
      "  next_page=driver.find_element_by_xpath(\"//div[@class='a-text-center']/ul/li[@class='a-last']/a\").get_attribute('href')\n",
      "<ipython-input-7-51738c003564>:33: DeprecationWarning: find_element_by_* commands are deprecated. Please use find_element() instead\n",
      "  brand_name.append(driver.find_element_by_id(\"productTitle\").text.split(' ')[0])\n",
      "<ipython-input-7-51738c003564>:41: DeprecationWarning: find_element_by_* commands are deprecated. Please use find_element() instead\n",
      "  for j in driver.find_element_by_id(\"productTitle\").text.split(' ')[1:]:\n",
      "<ipython-input-7-51738c003564>:50: DeprecationWarning: find_element_by_* commands are deprecated. Please use find_element() instead\n",
      "  Rating.append(driver.find_element_by_id(\"acrPopover\").get_attribute('title'))\n",
      "<ipython-input-7-51738c003564>:57: DeprecationWarning: find_element_by_* commands are deprecated. Please use find_element() instead\n",
      "  no_of_ratings.append(driver.find_element_by_id(\"acrCustomerReviewText\").text)\n",
      "<ipython-input-7-51738c003564>:65: DeprecationWarning: find_element_by_* commands are deprecated. Please use find_element() instead\n",
      "  price.append(driver.find_element_by_id(\"priceblock_saleprice\").text)\n",
      "<ipython-input-7-51738c003564>:68: DeprecationWarning: find_element_by_* commands are deprecated. Please use find_element() instead\n",
      "  price.append(driver.find_element_by_id(\"priceblock_dealprice\").text)\n",
      "<ipython-input-7-51738c003564>:70: DeprecationWarning: find_element_by_* commands are deprecated. Please use find_element() instead\n",
      "  price.append(driver.find_element_by_id(\"priceblock_ourprice\").text)\n",
      "<ipython-input-7-51738c003564>:77: DeprecationWarning: find_element_by_* commands are deprecated. Please use find_element() instead\n",
      "  returns.append(driver.find_element_by_xpath(\"//div[@id='RETURNS_POLICY']\").text)\n",
      "<ipython-input-7-51738c003564>:84: DeprecationWarning: find_element_by_* commands are deprecated. Please use find_element() instead\n",
      "  delivery.append(driver.find_element_by_xpath('//div[@id=\"ddmDeliveryMessage\"]/b').text)\n",
      "<ipython-input-7-51738c003564>:91: DeprecationWarning: find_element_by_* commands are deprecated. Please use find_element() instead\n",
      "  availability.append(driver.find_element_by_xpath(\"//div[@id='availability']\").text)\n",
      "<ipython-input-7-51738c003564>:98: DeprecationWarning: find_element_by_* commands are deprecated. Please use find_element() instead\n",
      "  details=[i.text.replace('\\n','---') for i in driver.find_element_by_id(\"productDetails_techSpec_section_1\").find_elements_by_xpath(\".//tbody\")]\n",
      "E:\\AANI\\lib\\site-packages\\selenium\\webdriver\\remote\\webelement.py:426: UserWarning: find_elements_by_* commands are deprecated. Please use find_elements() instead\n",
      "  warnings.warn(\"find_elements_by_* commands are deprecated. Please use find_elements() instead\")\n"
     ]
    }
   ],
   "source": [
    "#Creating a for loop to append the urls of first 3 pages\n",
    "URL=[]  #Empty list\n",
    "for page in range(0,3):\n",
    "    for i in driver.find_elements_by_xpath(\"//div[@class='a-section a-spacing-medium']//h2\"):\n",
    "        URL.append(i.find_element_by_xpath(\".//a\").get_attribute('href'))\n",
    "    try:\n",
    "        next_page=driver.find_element_by_xpath(\"//div[@class='a-text-center']/ul/li[@class='a-last']/a\").get_attribute('href')\n",
    "        driver.get(next_page)\n",
    "        driver.refresh()   \n",
    "    except:\n",
    "        break   \n",
    "        \n",
    "#Taking the empty lists\n",
    "brand_name=[]\n",
    "product_name=[]\n",
    "Rating=[]\n",
    "no_of_ratings=[]\n",
    "price=[]\n",
    "returns=[]\n",
    "delivery=[]\n",
    "availability=[]\n",
    "other_details=[]\n",
    "product_url=[]\n",
    "     \n",
    "#We are running a for loop for the url as it changes for every page and we are extracting the product url\n",
    "for i in URL:\n",
    "    driver.get(i)\n",
    "    product_url.append(i)\n",
    "    driver.implicitly_wait(3)  #Making the driver automatically wait for 3 seconds \n",
    "    \n",
    "    #Extracting the brand name\n",
    "    try:\n",
    "        brand_name.append(driver.find_element_by_id(\"productTitle\").text.split(' ')[0])\n",
    "    except NoSuchElementException as e:\n",
    "        brand_name.append(\"-\")\n",
    "    driver.implicitly_wait(3)  #Making the driver automatically wait for 3 seconds   \n",
    "    \n",
    "    #Extracting the product name\n",
    "    try:\n",
    "        string=' '  #Empty string\n",
    "        for j in driver.find_element_by_id(\"productTitle\").text.split(' ')[1:]:\n",
    "            string=string+' '+j  #Extracting the text and appending to empty string\n",
    "        product_name.append(string)  #Appending the string having the extracted text\n",
    "    except NoSuchElementException as e:\n",
    "            product_name.append(\"-\")\n",
    "    driver.implicitly_wait(3)  #Making the driver automatically wait for 3 seconds     \n",
    "    \n",
    "    #Extracting the ratings\n",
    "    try:\n",
    "        Rating.append(driver.find_element_by_id(\"acrPopover\").get_attribute('title')) \n",
    "    except NoSuchElementException as e:\n",
    "        Rating.append(\"-\")\n",
    "    driver.implicitly_wait(3)  #Making the driver automatically wait for 3 seconds \n",
    "    \n",
    "    #Extracting the number of ratings\n",
    "    try:\n",
    "        no_of_ratings.append(driver.find_element_by_id(\"acrCustomerReviewText\").text) \n",
    "    except NoSuchElementException as e:\n",
    "        no_of_ratings.append(\"-\")\n",
    "    driver.implicitly_wait(3)  #Making the driver automatically wait for 3 seconds \n",
    "    \n",
    "    #Extracting the price\n",
    "    try:\n",
    "        try:\n",
    "            price.append(driver.find_element_by_id(\"priceblock_saleprice\").text) \n",
    "        except:\n",
    "            try:\n",
    "                price.append(driver.find_element_by_id(\"priceblock_dealprice\").text)\n",
    "            except:\n",
    "                price.append(driver.find_element_by_id(\"priceblock_ourprice\").text)\n",
    "    except NoSuchElementException as e:\n",
    "        price.append(\"-\")\n",
    "    driver.implicitly_wait(3)  #Making the driver automatically wait for 3 seconds \n",
    "    \n",
    "    #Extracting the Return/Exchange\n",
    "    try:\n",
    "        returns.append(driver.find_element_by_xpath(\"//div[@id='RETURNS_POLICY']\").text)\n",
    "    except NoSuchElementException as e:\n",
    "        returns.append(\"-\")\n",
    "    driver.implicitly_wait(3)  #Making the driver automatically wait for 3 seconds \n",
    "    \n",
    "    #Extracting Expected Delivery\n",
    "    try:\n",
    "        delivery.append(driver.find_element_by_xpath('//div[@id=\"ddmDeliveryMessage\"]/b').text)\n",
    "    except NoSuchElementException as e:\n",
    "        delivery.append(\"-\")\n",
    "    driver.implicitly_wait(3)  #Making the driver automatically wait for 3 seconds  \n",
    "    \n",
    "    #Extracting the availability of headphones\n",
    "    try:\n",
    "        availability.append(driver.find_element_by_xpath(\"//div[@id='availability']\").text)\n",
    "    except NoSuchElementException as e:    \n",
    "        availability.append(\"-\")\n",
    "    driver.implicitly_wait(3)  #Making the driver automatically wait for 3 seconds  \n",
    "    \n",
    "    #Extracting the other details available\n",
    "    try:\n",
    "        details=[i.text.replace('\\n','---') for i in driver.find_element_by_id(\"productDetails_techSpec_section_1\").find_elements_by_xpath(\".//tbody\")]\n",
    "        other_details.append(details[0])\n",
    "    except NoSuchElementException as e:     \n",
    "        other_details.append(\"-\")\n",
    "    driver.implicitly_wait(3)  #Making the driver automatically wait for 3 seconds "
   ]
  },
  {
   "cell_type": "code",
   "execution_count": 8,
   "id": "5a75ae8f",
   "metadata": {},
   "outputs": [
    {
     "name": "stdout",
     "output_type": "stream",
     "text": [
      "3 3 3 3 3 3 3 3 3 3\n"
     ]
    }
   ],
   "source": [
    "print(len(brand_name),len(product_name),len(Rating),len(no_of_ratings),len(price),len(returns),len(delivery),\n",
    "      len(availability),len(other_details),len(product_url))"
   ]
  },
  {
   "cell_type": "code",
   "execution_count": 9,
   "id": "ef40f590",
   "metadata": {},
   "outputs": [
    {
     "data": {
      "text/html": [
       "<div>\n",
       "<style scoped>\n",
       "    .dataframe tbody tr th:only-of-type {\n",
       "        vertical-align: middle;\n",
       "    }\n",
       "\n",
       "    .dataframe tbody tr th {\n",
       "        vertical-align: top;\n",
       "    }\n",
       "\n",
       "    .dataframe thead th {\n",
       "        text-align: right;\n",
       "    }\n",
       "</style>\n",
       "<table border=\"1\" class=\"dataframe\">\n",
       "  <thead>\n",
       "    <tr style=\"text-align: right;\">\n",
       "      <th></th>\n",
       "      <th>Brand Name</th>\n",
       "      <th>Name of Product</th>\n",
       "      <th>Rating</th>\n",
       "      <th>No of Ratings</th>\n",
       "      <th>Price</th>\n",
       "      <th>Return/Exchange</th>\n",
       "      <th>Expected Delivery</th>\n",
       "      <th>Availability</th>\n",
       "      <th>Other details</th>\n",
       "      <th>Product URL</th>\n",
       "    </tr>\n",
       "  </thead>\n",
       "  <tbody>\n",
       "    <tr>\n",
       "      <th>0</th>\n",
       "      <td>boAt</td>\n",
       "      <td>Bassheads 152 in Ear Wired Earphones with Mi...</td>\n",
       "      <td>4.2 out of 5 stars</td>\n",
       "      <td>68,315 ratings</td>\n",
       "      <td>-</td>\n",
       "      <td>7 Days Replacement</td>\n",
       "      <td>Tuesday, Jan 4</td>\n",
       "      <td>In stock.</td>\n",
       "      <td>Brand BoAt---Manufacturer Imagine Marketing Pv...</td>\n",
       "      <td>https://www.amazon.in/Boat-BassHeads-152-Earph...</td>\n",
       "    </tr>\n",
       "    <tr>\n",
       "      <th>1</th>\n",
       "      <td>Infinity</td>\n",
       "      <td>Zip 20 Wired in Ear Earphones with Mic (Black)</td>\n",
       "      <td>4.0 out of 5 stars</td>\n",
       "      <td>11,615 ratings</td>\n",
       "      <td>-</td>\n",
       "      <td>7 Days Replacement</td>\n",
       "      <td>Tuesday, Jan 4</td>\n",
       "      <td>In stock.</td>\n",
       "      <td>Brand Infinity---Manufacturer Harman Internati...</td>\n",
       "      <td>https://www.amazon.in/Infinity-Zip-20-Headphon...</td>\n",
       "    </tr>\n",
       "    <tr>\n",
       "      <th>2</th>\n",
       "      <td>Xiaomi</td>\n",
       "      <td>Redmi Wired in Ear Earphones with Mic (Blue)</td>\n",
       "      <td>4.1 out of 5 stars</td>\n",
       "      <td>19,588 ratings</td>\n",
       "      <td>-</td>\n",
       "      <td>7 Days Replacement</td>\n",
       "      <td>Tuesday, Jan 4</td>\n",
       "      <td>In stock.</td>\n",
       "      <td>Brand Xiaomi---Manufacturer RISUN Vietnam Comp...</td>\n",
       "      <td>https://www.amazon.in/Xiaomi-Redmi-Hi-Resoluti...</td>\n",
       "    </tr>\n",
       "  </tbody>\n",
       "</table>\n",
       "</div>"
      ],
      "text/plain": [
       "  Brand Name                                    Name of Product  \\\n",
       "0       boAt    Bassheads 152 in Ear Wired Earphones with Mi...   \n",
       "1   Infinity     Zip 20 Wired in Ear Earphones with Mic (Black)   \n",
       "2     Xiaomi       Redmi Wired in Ear Earphones with Mic (Blue)   \n",
       "\n",
       "               Rating   No of Ratings Price     Return/Exchange  \\\n",
       "0  4.2 out of 5 stars  68,315 ratings     -  7 Days Replacement   \n",
       "1  4.0 out of 5 stars  11,615 ratings     -  7 Days Replacement   \n",
       "2  4.1 out of 5 stars  19,588 ratings     -  7 Days Replacement   \n",
       "\n",
       "  Expected Delivery Availability  \\\n",
       "0    Tuesday, Jan 4    In stock.   \n",
       "1    Tuesday, Jan 4    In stock.   \n",
       "2    Tuesday, Jan 4    In stock.   \n",
       "\n",
       "                                       Other details  \\\n",
       "0  Brand BoAt---Manufacturer Imagine Marketing Pv...   \n",
       "1  Brand Infinity---Manufacturer Harman Internati...   \n",
       "2  Brand Xiaomi---Manufacturer RISUN Vietnam Comp...   \n",
       "\n",
       "                                         Product URL  \n",
       "0  https://www.amazon.in/Boat-BassHeads-152-Earph...  \n",
       "1  https://www.amazon.in/Infinity-Zip-20-Headphon...  \n",
       "2  https://www.amazon.in/Xiaomi-Redmi-Hi-Resoluti...  "
      ]
     },
     "execution_count": 9,
     "metadata": {},
     "output_type": "execute_result"
    }
   ],
   "source": [
    "amazon=pd.DataFrame({'Brand Name':brand_name,'Name of Product':product_name,'Rating':Rating,'No of Ratings':no_of_ratings,\n",
    "                     'Price':price,'Return/Exchange':returns,'Expected Delivery':delivery,'Availability':availability,\n",
    "                     'Other details':other_details,'Product URL':product_url})\n",
    "amazon"
   ]
  },
  {
   "cell_type": "code",
   "execution_count": 10,
   "id": "69cd4580",
   "metadata": {},
   "outputs": [],
   "source": [
    "#Saving the data into a csv file\n",
    "amazon.to_csv(\"Amazon_Headphones.csv\")\n",
    "\n",
    "#Closing the driver\n",
    "driver.close()"
   ]
  },
  {
   "cell_type": "markdown",
   "id": "2773e7ba",
   "metadata": {},
   "source": [
    "3. Write a python program to access the search bar and search button on images.google.com and scrape 10 images each for keywords ‘fruits’, ‘cars’ and ‘Machine Learning’, ‘Guitar’, ‘Cakes’."
   ]
  },
  {
   "cell_type": "code",
   "execution_count": 11,
   "id": "eb4672f9",
   "metadata": {},
   "outputs": [
    {
     "name": "stderr",
     "output_type": "stream",
     "text": [
      "<ipython-input-11-e86b318ec392>:1: DeprecationWarning: executable_path has been deprecated, please pass in a Service object\n",
      "  driver=webdriver.Chrome(r\"C:/Users/user/Downloads/chromedriver_win32 (1)/chromedriver.exe\")\n"
     ]
    }
   ],
   "source": [
    "driver=webdriver.Chrome(r\"C:/Users/user/Downloads/chromedriver_win32 (1)/chromedriver.exe\")"
   ]
  },
  {
   "cell_type": "code",
   "execution_count": 12,
   "id": "0bf017a3",
   "metadata": {},
   "outputs": [],
   "source": [
    "url=('https://images.google.com/')\n",
    "driver.get(url)"
   ]
  },
  {
   "cell_type": "code",
   "execution_count": 13,
   "id": "185b9c05",
   "metadata": {},
   "outputs": [],
   "source": [
    "def get_images(keywords):\n",
    "    driver.get(url)\n",
    "    \n",
    "    #Searching the keywords in the search bar and clicking the search button\n",
    "    search_bar=driver.find_element_by_xpath(\"//input[@class='gLFyf gsfi']\")\n",
    "    search_bar.send_keys(keywords)\n",
    "    button=driver.find_element_by_xpath(\"//button[@class='Tg7LZd']\")\n",
    "    button.click()\n",
    "    driver.implicitly_wait(1)  #Making the driver wait for 1 second\n",
    "    \n",
    "    #Taking 5 pages for each keyword and scraping the image data\n",
    "    for page in range(0,5):\n",
    "        driver.find_element_by_xpath(\"//a[@class='wXeWr islib nfEiy mM5pbd']\").send_keys(Keys.PAGE_DOWN)\n",
    "        time.sleep(2)   #Delaying the page wait time for 2 seconds\n",
    "        \n",
    "        #Iterating data for first 100 results of the keywords\n",
    "        picture=[image for image in driver.find_elements_by_xpath(\"//a[@class='wXeWr islib nfEiy mM5pbd']\")[:100]]\n",
    "        image_url=[]   #Empty list\n",
    "        print(len(picture))  \n",
    "        \n",
    "        #Iterating the tags for getting url link text of 100 results\n",
    "        if(len(picture)==100):  #Checking if the length is equal to 100\n",
    "            for i in picture:\n",
    "                try:\n",
    "                    i.click()\n",
    "                    image_url.append(i.get_attribute('href'))  #Extracting the link texts\n",
    "                except NoSuchElementException as e:\n",
    "                    image_url.append(\"Link Not Available\")  #Exception message if urls are not available\n",
    "            return image_url\n",
    "        else:\n",
    "            print(\"Image not available\")  #Message if length of data is not equal"
   ]
  },
  {
   "cell_type": "code",
   "execution_count": 14,
   "id": "7428acad",
   "metadata": {},
   "outputs": [
    {
     "name": "stderr",
     "output_type": "stream",
     "text": [
      "<ipython-input-13-a37417e5727f>:5: DeprecationWarning: find_element_by_* commands are deprecated. Please use find_element() instead\n",
      "  search_bar=driver.find_element_by_xpath(\"//input[@class='gLFyf gsfi']\")\n",
      "<ipython-input-13-a37417e5727f>:7: DeprecationWarning: find_element_by_* commands are deprecated. Please use find_element() instead\n",
      "  button=driver.find_element_by_xpath(\"//button[@class='Tg7LZd']\")\n",
      "<ipython-input-13-a37417e5727f>:13: DeprecationWarning: find_element_by_* commands are deprecated. Please use find_element() instead\n",
      "  driver.find_element_by_xpath(\"//a[@class='wXeWr islib nfEiy mM5pbd']\").send_keys(Keys.PAGE_DOWN)\n"
     ]
    },
    {
     "ename": "NoSuchElementException",
     "evalue": "Message: no such element: Unable to locate element: {\"method\":\"xpath\",\"selector\":\"//a[@class='wXeWr islib nfEiy mM5pbd']\"}\n  (Session info: chrome=96.0.4664.110)\nStacktrace:\nBacktrace:\n\tOrdinal0 [0x010F6903+2517251]\n\tOrdinal0 [0x0108F8E1+2095329]\n\tOrdinal0 [0x00F92848+1058888]\n\tOrdinal0 [0x00FBD448+1233992]\n\tOrdinal0 [0x00FBD63B+1234491]\n\tOrdinal0 [0x00FE7812+1406994]\n\tOrdinal0 [0x00FD650A+1336586]\n\tOrdinal0 [0x00FE5BBF+1399743]\n\tOrdinal0 [0x00FD639B+1336219]\n\tOrdinal0 [0x00FB27A7+1189799]\n\tOrdinal0 [0x00FB3609+1193481]\n\tGetHandleVerifier [0x01285904+1577972]\n\tGetHandleVerifier [0x01330B97+2279047]\n\tGetHandleVerifier [0x01186D09+534521]\n\tGetHandleVerifier [0x01185DB9+530601]\n\tOrdinal0 [0x01094FF9+2117625]\n\tOrdinal0 [0x010998A8+2136232]\n\tOrdinal0 [0x010999E2+2136546]\n\tOrdinal0 [0x010A3541+2176321]\n\tBaseThreadInitThunk [0x750686E3+14]\n\tRtlInitializeExceptionChain [0x7759BD99+133]\n\tRtlInitializeExceptionChain [0x7759BD6C+88]\n",
     "output_type": "error",
     "traceback": [
      "\u001b[1;31m---------------------------------------------------------------------------\u001b[0m",
      "\u001b[1;31mNoSuchElementException\u001b[0m                    Traceback (most recent call last)",
      "\u001b[1;32m<ipython-input-14-710d5d01c5d7>\u001b[0m in \u001b[0;36m<module>\u001b[1;34m\u001b[0m\n\u001b[0;32m      1\u001b[0m \u001b[1;31m#Sending the keywords for scraping the urls of images\u001b[0m\u001b[1;33m\u001b[0m\u001b[1;33m\u001b[0m\u001b[1;33m\u001b[0m\u001b[0m\n\u001b[1;32m----> 2\u001b[1;33m \u001b[0mFruits_images\u001b[0m\u001b[1;33m=\u001b[0m\u001b[0mget_images\u001b[0m\u001b[1;33m(\u001b[0m\u001b[1;34m'fruits'\u001b[0m\u001b[1;33m)\u001b[0m\u001b[1;33m\u001b[0m\u001b[1;33m\u001b[0m\u001b[0m\n\u001b[0m\u001b[0;32m      3\u001b[0m \u001b[0mCars_images\u001b[0m\u001b[1;33m=\u001b[0m\u001b[0mget_images\u001b[0m\u001b[1;33m(\u001b[0m\u001b[1;34m'cars'\u001b[0m\u001b[1;33m)\u001b[0m\u001b[1;33m\u001b[0m\u001b[1;33m\u001b[0m\u001b[0m\n\u001b[0;32m      4\u001b[0m \u001b[0mmachine_learning\u001b[0m\u001b[1;33m=\u001b[0m\u001b[0mget_images\u001b[0m\u001b[1;33m(\u001b[0m\u001b[1;34m'Machine Learning'\u001b[0m\u001b[1;33m)\u001b[0m\u001b[1;33m\u001b[0m\u001b[1;33m\u001b[0m\u001b[0m\n",
      "\u001b[1;32m<ipython-input-13-a37417e5727f>\u001b[0m in \u001b[0;36mget_images\u001b[1;34m(keywords)\u001b[0m\n\u001b[0;32m     11\u001b[0m     \u001b[1;31m#Taking 5 pages for each keyword and scraping the image data\u001b[0m\u001b[1;33m\u001b[0m\u001b[1;33m\u001b[0m\u001b[1;33m\u001b[0m\u001b[0m\n\u001b[0;32m     12\u001b[0m     \u001b[1;32mfor\u001b[0m \u001b[0mpage\u001b[0m \u001b[1;32min\u001b[0m \u001b[0mrange\u001b[0m\u001b[1;33m(\u001b[0m\u001b[1;36m0\u001b[0m\u001b[1;33m,\u001b[0m\u001b[1;36m5\u001b[0m\u001b[1;33m)\u001b[0m\u001b[1;33m:\u001b[0m\u001b[1;33m\u001b[0m\u001b[1;33m\u001b[0m\u001b[0m\n\u001b[1;32m---> 13\u001b[1;33m         \u001b[0mdriver\u001b[0m\u001b[1;33m.\u001b[0m\u001b[0mfind_element_by_xpath\u001b[0m\u001b[1;33m(\u001b[0m\u001b[1;34m\"//a[@class='wXeWr islib nfEiy mM5pbd']\"\u001b[0m\u001b[1;33m)\u001b[0m\u001b[1;33m.\u001b[0m\u001b[0msend_keys\u001b[0m\u001b[1;33m(\u001b[0m\u001b[0mKeys\u001b[0m\u001b[1;33m.\u001b[0m\u001b[0mPAGE_DOWN\u001b[0m\u001b[1;33m)\u001b[0m\u001b[1;33m\u001b[0m\u001b[1;33m\u001b[0m\u001b[0m\n\u001b[0m\u001b[0;32m     14\u001b[0m         \u001b[0mtime\u001b[0m\u001b[1;33m.\u001b[0m\u001b[0msleep\u001b[0m\u001b[1;33m(\u001b[0m\u001b[1;36m2\u001b[0m\u001b[1;33m)\u001b[0m   \u001b[1;31m#Delaying the page wait time for 2 seconds\u001b[0m\u001b[1;33m\u001b[0m\u001b[1;33m\u001b[0m\u001b[0m\n\u001b[0;32m     15\u001b[0m \u001b[1;33m\u001b[0m\u001b[0m\n",
      "\u001b[1;32mE:\\AANI\\lib\\site-packages\\selenium\\webdriver\\remote\\webdriver.py\u001b[0m in \u001b[0;36mfind_element_by_xpath\u001b[1;34m(self, xpath)\u001b[0m\n\u001b[0;32m    518\u001b[0m             \u001b[0mstacklevel\u001b[0m\u001b[1;33m=\u001b[0m\u001b[1;36m2\u001b[0m\u001b[1;33m,\u001b[0m\u001b[1;33m\u001b[0m\u001b[1;33m\u001b[0m\u001b[0m\n\u001b[0;32m    519\u001b[0m         )\n\u001b[1;32m--> 520\u001b[1;33m         \u001b[1;32mreturn\u001b[0m \u001b[0mself\u001b[0m\u001b[1;33m.\u001b[0m\u001b[0mfind_element\u001b[0m\u001b[1;33m(\u001b[0m\u001b[0mby\u001b[0m\u001b[1;33m=\u001b[0m\u001b[0mBy\u001b[0m\u001b[1;33m.\u001b[0m\u001b[0mXPATH\u001b[0m\u001b[1;33m,\u001b[0m \u001b[0mvalue\u001b[0m\u001b[1;33m=\u001b[0m\u001b[0mxpath\u001b[0m\u001b[1;33m)\u001b[0m\u001b[1;33m\u001b[0m\u001b[1;33m\u001b[0m\u001b[0m\n\u001b[0m\u001b[0;32m    521\u001b[0m \u001b[1;33m\u001b[0m\u001b[0m\n\u001b[0;32m    522\u001b[0m     \u001b[1;32mdef\u001b[0m \u001b[0mfind_elements_by_xpath\u001b[0m\u001b[1;33m(\u001b[0m\u001b[0mself\u001b[0m\u001b[1;33m,\u001b[0m \u001b[0mxpath\u001b[0m\u001b[1;33m)\u001b[0m \u001b[1;33m->\u001b[0m \u001b[0mWebElement\u001b[0m\u001b[1;33m:\u001b[0m\u001b[1;33m\u001b[0m\u001b[1;33m\u001b[0m\u001b[0m\n",
      "\u001b[1;32mE:\\AANI\\lib\\site-packages\\selenium\\webdriver\\remote\\webdriver.py\u001b[0m in \u001b[0;36mfind_element\u001b[1;34m(self, by, value)\u001b[0m\n\u001b[0;32m   1242\u001b[0m             \u001b[0mvalue\u001b[0m \u001b[1;33m=\u001b[0m \u001b[1;34m'[name=\"%s\"]'\u001b[0m \u001b[1;33m%\u001b[0m \u001b[0mvalue\u001b[0m\u001b[1;33m\u001b[0m\u001b[1;33m\u001b[0m\u001b[0m\n\u001b[0;32m   1243\u001b[0m \u001b[1;33m\u001b[0m\u001b[0m\n\u001b[1;32m-> 1244\u001b[1;33m         return self.execute(Command.FIND_ELEMENT, {\n\u001b[0m\u001b[0;32m   1245\u001b[0m             \u001b[1;34m'using'\u001b[0m\u001b[1;33m:\u001b[0m \u001b[0mby\u001b[0m\u001b[1;33m,\u001b[0m\u001b[1;33m\u001b[0m\u001b[1;33m\u001b[0m\u001b[0m\n\u001b[0;32m   1246\u001b[0m             'value': value})['value']\n",
      "\u001b[1;32mE:\\AANI\\lib\\site-packages\\selenium\\webdriver\\remote\\webdriver.py\u001b[0m in \u001b[0;36mexecute\u001b[1;34m(self, driver_command, params)\u001b[0m\n\u001b[0;32m    422\u001b[0m         \u001b[0mresponse\u001b[0m \u001b[1;33m=\u001b[0m \u001b[0mself\u001b[0m\u001b[1;33m.\u001b[0m\u001b[0mcommand_executor\u001b[0m\u001b[1;33m.\u001b[0m\u001b[0mexecute\u001b[0m\u001b[1;33m(\u001b[0m\u001b[0mdriver_command\u001b[0m\u001b[1;33m,\u001b[0m \u001b[0mparams\u001b[0m\u001b[1;33m)\u001b[0m\u001b[1;33m\u001b[0m\u001b[1;33m\u001b[0m\u001b[0m\n\u001b[0;32m    423\u001b[0m         \u001b[1;32mif\u001b[0m \u001b[0mresponse\u001b[0m\u001b[1;33m:\u001b[0m\u001b[1;33m\u001b[0m\u001b[1;33m\u001b[0m\u001b[0m\n\u001b[1;32m--> 424\u001b[1;33m             \u001b[0mself\u001b[0m\u001b[1;33m.\u001b[0m\u001b[0merror_handler\u001b[0m\u001b[1;33m.\u001b[0m\u001b[0mcheck_response\u001b[0m\u001b[1;33m(\u001b[0m\u001b[0mresponse\u001b[0m\u001b[1;33m)\u001b[0m\u001b[1;33m\u001b[0m\u001b[1;33m\u001b[0m\u001b[0m\n\u001b[0m\u001b[0;32m    425\u001b[0m             response['value'] = self._unwrap_value(\n\u001b[0;32m    426\u001b[0m                 response.get('value', None))\n",
      "\u001b[1;32mE:\\AANI\\lib\\site-packages\\selenium\\webdriver\\remote\\errorhandler.py\u001b[0m in \u001b[0;36mcheck_response\u001b[1;34m(self, response)\u001b[0m\n\u001b[0;32m    245\u001b[0m                 \u001b[0malert_text\u001b[0m \u001b[1;33m=\u001b[0m \u001b[0mvalue\u001b[0m\u001b[1;33m[\u001b[0m\u001b[1;34m'alert'\u001b[0m\u001b[1;33m]\u001b[0m\u001b[1;33m.\u001b[0m\u001b[0mget\u001b[0m\u001b[1;33m(\u001b[0m\u001b[1;34m'text'\u001b[0m\u001b[1;33m)\u001b[0m\u001b[1;33m\u001b[0m\u001b[1;33m\u001b[0m\u001b[0m\n\u001b[0;32m    246\u001b[0m             \u001b[1;32mraise\u001b[0m \u001b[0mexception_class\u001b[0m\u001b[1;33m(\u001b[0m\u001b[0mmessage\u001b[0m\u001b[1;33m,\u001b[0m \u001b[0mscreen\u001b[0m\u001b[1;33m,\u001b[0m \u001b[0mstacktrace\u001b[0m\u001b[1;33m,\u001b[0m \u001b[0malert_text\u001b[0m\u001b[1;33m)\u001b[0m  \u001b[1;31m# type: ignore[call-arg]  # mypy is not smart enough here\u001b[0m\u001b[1;33m\u001b[0m\u001b[1;33m\u001b[0m\u001b[0m\n\u001b[1;32m--> 247\u001b[1;33m         \u001b[1;32mraise\u001b[0m \u001b[0mexception_class\u001b[0m\u001b[1;33m(\u001b[0m\u001b[0mmessage\u001b[0m\u001b[1;33m,\u001b[0m \u001b[0mscreen\u001b[0m\u001b[1;33m,\u001b[0m \u001b[0mstacktrace\u001b[0m\u001b[1;33m)\u001b[0m\u001b[1;33m\u001b[0m\u001b[1;33m\u001b[0m\u001b[0m\n\u001b[0m\u001b[0;32m    248\u001b[0m \u001b[1;33m\u001b[0m\u001b[0m\n\u001b[0;32m    249\u001b[0m     \u001b[1;32mdef\u001b[0m \u001b[0m_value_or_default\u001b[0m\u001b[1;33m(\u001b[0m\u001b[0mself\u001b[0m\u001b[1;33m,\u001b[0m \u001b[0mobj\u001b[0m\u001b[1;33m:\u001b[0m \u001b[0mMapping\u001b[0m\u001b[1;33m[\u001b[0m\u001b[0m_KT\u001b[0m\u001b[1;33m,\u001b[0m \u001b[0m_VT\u001b[0m\u001b[1;33m]\u001b[0m\u001b[1;33m,\u001b[0m \u001b[0mkey\u001b[0m\u001b[1;33m:\u001b[0m \u001b[0m_KT\u001b[0m\u001b[1;33m,\u001b[0m \u001b[0mdefault\u001b[0m\u001b[1;33m:\u001b[0m \u001b[0m_VT\u001b[0m\u001b[1;33m)\u001b[0m \u001b[1;33m->\u001b[0m \u001b[0m_VT\u001b[0m\u001b[1;33m:\u001b[0m\u001b[1;33m\u001b[0m\u001b[1;33m\u001b[0m\u001b[0m\n",
      "\u001b[1;31mNoSuchElementException\u001b[0m: Message: no such element: Unable to locate element: {\"method\":\"xpath\",\"selector\":\"//a[@class='wXeWr islib nfEiy mM5pbd']\"}\n  (Session info: chrome=96.0.4664.110)\nStacktrace:\nBacktrace:\n\tOrdinal0 [0x010F6903+2517251]\n\tOrdinal0 [0x0108F8E1+2095329]\n\tOrdinal0 [0x00F92848+1058888]\n\tOrdinal0 [0x00FBD448+1233992]\n\tOrdinal0 [0x00FBD63B+1234491]\n\tOrdinal0 [0x00FE7812+1406994]\n\tOrdinal0 [0x00FD650A+1336586]\n\tOrdinal0 [0x00FE5BBF+1399743]\n\tOrdinal0 [0x00FD639B+1336219]\n\tOrdinal0 [0x00FB27A7+1189799]\n\tOrdinal0 [0x00FB3609+1193481]\n\tGetHandleVerifier [0x01285904+1577972]\n\tGetHandleVerifier [0x01330B97+2279047]\n\tGetHandleVerifier [0x01186D09+534521]\n\tGetHandleVerifier [0x01185DB9+530601]\n\tOrdinal0 [0x01094FF9+2117625]\n\tOrdinal0 [0x010998A8+2136232]\n\tOrdinal0 [0x010999E2+2136546]\n\tOrdinal0 [0x010A3541+2176321]\n\tBaseThreadInitThunk [0x750686E3+14]\n\tRtlInitializeExceptionChain [0x7759BD99+133]\n\tRtlInitializeExceptionChain [0x7759BD6C+88]\n"
     ]
    }
   ],
   "source": [
    "#Sending the keywords for scraping the urls of images\n",
    "Fruits_images=get_images('fruits')\n",
    "Cars_images=get_images('cars')\n",
    "machine_learning=get_images('Machine Learning')"
   ]
  },
  {
   "cell_type": "code",
   "execution_count": 15,
   "id": "ed537c90",
   "metadata": {},
   "outputs": [
    {
     "ename": "NameError",
     "evalue": "name 'Fruits_images' is not defined",
     "output_type": "error",
     "traceback": [
      "\u001b[1;31m---------------------------------------------------------------------------\u001b[0m",
      "\u001b[1;31mNameError\u001b[0m                                 Traceback (most recent call last)",
      "\u001b[1;32m<ipython-input-15-6001fe8129d2>\u001b[0m in \u001b[0;36m<module>\u001b[1;34m\u001b[0m\n\u001b[0;32m      1\u001b[0m \u001b[1;31m#Create a DataFrame for our data extracted\u001b[0m\u001b[1;33m\u001b[0m\u001b[1;33m\u001b[0m\u001b[1;33m\u001b[0m\u001b[0m\n\u001b[0;32m      2\u001b[0m \u001b[0mImage_URL\u001b[0m\u001b[1;33m=\u001b[0m\u001b[0mpd\u001b[0m\u001b[1;33m.\u001b[0m\u001b[0mDataFrame\u001b[0m\u001b[1;33m(\u001b[0m\u001b[1;33m{\u001b[0m\u001b[1;33m}\u001b[0m\u001b[1;33m)\u001b[0m\u001b[1;33m\u001b[0m\u001b[1;33m\u001b[0m\u001b[0m\n\u001b[1;32m----> 3\u001b[1;33m \u001b[0mImage_URL\u001b[0m\u001b[1;33m[\u001b[0m\u001b[1;34m'Fruits'\u001b[0m\u001b[1;33m]\u001b[0m\u001b[1;33m=\u001b[0m\u001b[0mFruits_images\u001b[0m\u001b[1;33m\u001b[0m\u001b[1;33m\u001b[0m\u001b[0m\n\u001b[0m\u001b[0;32m      4\u001b[0m \u001b[0mImage_URL\u001b[0m\u001b[1;33m[\u001b[0m\u001b[1;34m'Cars'\u001b[0m\u001b[1;33m]\u001b[0m\u001b[1;33m=\u001b[0m\u001b[0mCars_images\u001b[0m\u001b[1;33m\u001b[0m\u001b[1;33m\u001b[0m\u001b[0m\n\u001b[0;32m      5\u001b[0m \u001b[0mImage_URL\u001b[0m\u001b[1;33m[\u001b[0m\u001b[1;34m'Machine Learning'\u001b[0m\u001b[1;33m]\u001b[0m\u001b[1;33m=\u001b[0m\u001b[0mmachine_learning\u001b[0m\u001b[1;33m\u001b[0m\u001b[1;33m\u001b[0m\u001b[0m\n",
      "\u001b[1;31mNameError\u001b[0m: name 'Fruits_images' is not defined"
     ]
    }
   ],
   "source": [
    "#Create a DataFrame for our data extracted\n",
    "Image_URL=pd.DataFrame({})\n",
    "Image_URL['Fruits']=Fruits_images\n",
    "Image_URL['Cars']=Cars_images\n",
    "Image_URL['Machine Learning']=machine_learning\n",
    "\n",
    "#Checking the dataframe\n",
    "Image_URL"
   ]
  },
  {
   "cell_type": "code",
   "execution_count": null,
   "id": "66fdcf1c",
   "metadata": {},
   "outputs": [],
   "source": []
  }
 ],
 "metadata": {
  "kernelspec": {
   "display_name": "Python 3",
   "language": "python",
   "name": "python3"
  },
  "language_info": {
   "codemirror_mode": {
    "name": "ipython",
    "version": 3
   },
   "file_extension": ".py",
   "mimetype": "text/x-python",
   "name": "python",
   "nbconvert_exporter": "python",
   "pygments_lexer": "ipython3",
   "version": "3.8.8"
  }
 },
 "nbformat": 4,
 "nbformat_minor": 5
}
