{
 "cells": [
  {
   "cell_type": "code",
   "execution_count": 2,
   "id": "e0a4f401",
   "metadata": {},
   "outputs": [
    {
     "name": "stdout",
     "output_type": "stream",
     "text": [
      "Enter the number5\n",
      "The factorial of  5 is 120\n"
     ]
    }
   ],
   "source": [
    "#question number 11\n",
    "fact = 1\n",
    "num = int (input(\"Enter the number\"))\n",
    "org=num\n",
    "while num > 0:\n",
    "    fact = fact * num\n",
    "    num = num - 1\n",
    "print(\"The factorial of \", org,\"is\", fact)"
   ]
  },
  {
   "cell_type": "code",
   "execution_count": 4,
   "id": "0fec0b6d",
   "metadata": {},
   "outputs": [
    {
     "name": "stdout",
     "output_type": "stream",
     "text": [
      "Enter a natural number:10\n",
      "2\n",
      "3\n",
      "4\n",
      "5\n"
     ]
    }
   ],
   "source": [
    "#question no 12\n",
    "number = int(input(\"Enter a natural number:\"))\n",
    "if number < 1:\n",
    "    print(\"Number needs to be greater than 1\")\n",
    "elif number == 1:\n",
    "    print(number,\" is neigher prime nor composite\")\n",
    "else:\n",
    "    for divisor in range(2,(number//2)+1):\n",
    "        print(divisor)"
   ]
  },
  {
   "cell_type": "code",
   "execution_count": 5,
   "id": "06e42d99",
   "metadata": {},
   "outputs": [
    {
     "name": "stdout",
     "output_type": "stream",
     "text": [
      "Enter string:RUBY\n",
      "Not pallindrome string\n"
     ]
    }
   ],
   "source": [
    "#question no 13\n",
    "a=input(\"Enter string:\")\n",
    "b=a[-1::-1]\n",
    "if(a==b):\n",
    "    print(\"palindrome string\")\n",
    "else:\n",
    "    print(\"Not pallindrome string\")"
   ]
  },
  {
   "cell_type": "code",
   "execution_count": 6,
   "id": "c0fd50a5",
   "metadata": {},
   "outputs": [
    {
     "name": "stdout",
     "output_type": "stream",
     "text": [
      "Enter base: 10\n",
      "Enter height: 8\n",
      "Enter angel: 45\n",
      "Hypotenuse= 12.806248474865697\n"
     ]
    }
   ],
   "source": [
    "# QUESTION NO 14\n",
    "import math\n",
    "\n",
    "a = float(input(\"Enter base: \"))\n",
    "b = float(input(\"Enter height: \"))\n",
    "x = float(input(\"Enter angel: \"))\n",
    "\n",
    "c = math.sqrt(a ** 2 + b ** 2)\n",
    " \n",
    "print(\"Hypotenuse=\", c)"
   ]
  },
  {
   "cell_type": "code",
   "execution_count": 15,
   "id": "91042f0e",
   "metadata": {},
   "outputs": [
    {
     "name": "stdout",
     "output_type": "stream",
     "text": [
      "Enter a stringhello ruby\n",
      "string is  hello ruby\n",
      "{'h': 1, 'e': 1, 'l': 1, 'o': 1, ' ': 1, 'r': 1, 'u': 1, 'b': 1, 'y': 1}\n"
     ]
    }
   ],
   "source": [
    "#question no 15\n",
    "str=input(\"Enter a string\")\n",
    "print(\"string is \", str)\n",
    "count = {}\n",
    "for x in str:\n",
    "    if x in count.keys():\n",
    "        count[x]+1\n",
    "    else:\n",
    "         count[x]=1\n",
    "print(count)\n"
   ]
  },
  {
   "cell_type": "code",
   "execution_count": null,
   "id": "8b976876",
   "metadata": {},
   "outputs": [],
   "source": []
  }
 ],
 "metadata": {
  "kernelspec": {
   "display_name": "Python 3",
   "language": "python",
   "name": "python3"
  },
  "language_info": {
   "codemirror_mode": {
    "name": "ipython",
    "version": 3
   },
   "file_extension": ".py",
   "mimetype": "text/x-python",
   "name": "python",
   "nbconvert_exporter": "python",
   "pygments_lexer": "ipython3",
   "version": "3.8.8"
  }
 },
 "nbformat": 4,
 "nbformat_minor": 5
}
